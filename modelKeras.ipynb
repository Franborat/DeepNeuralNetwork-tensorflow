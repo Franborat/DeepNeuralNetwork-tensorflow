{
 "cells": [
  {
   "cell_type": "code",
   "execution_count": 1,
   "metadata": {},
   "outputs": [
    {
     "name": "stdout",
     "output_type": "stream",
     "text": [
      "x_train: (16346, 8)\n",
      "t_train: (16346, 10)\n",
      "x_dev: (2043, 8)\n",
      "t_dev: (2043, 10)\n",
      "x_test: (2044, 8)\n",
      "t_test: (2044, 10)\n"
     ]
    }
   ],
   "source": [
    "# Load data\n",
    "%run 1.ReadingData.py"
   ]
  },
  {
   "cell_type": "code",
   "execution_count": 2,
   "metadata": {},
   "outputs": [],
   "source": [
    "INPUTS = x_train.shape[1]\n",
    "OUTPUTS = t_train.shape[1]\n",
    "NUM_TRAINING_EXAMPLES = int(round(x_train.shape[0]/1))\n",
    "NUM_DEV_EXAMPLES = int (round (x_dev.shape[0]/1))\n",
    "NUM_TEST_EXAMPLES = int (round (x_test.shape[0]/1))"
   ]
  },
  {
   "cell_type": "code",
   "execution_count": 3,
   "metadata": {},
   "outputs": [
    {
     "name": "stderr",
     "output_type": "stream",
     "text": [
      "Using TensorFlow backend.\n"
     ]
    }
   ],
   "source": [
    "# Tensorboard\n",
    "from time import time\n",
    "from keras.callbacks import TensorBoard\n",
    "tensorboard = TensorBoard(log_dir='logs/{}'.format(time()))"
   ]
  },
  {
   "cell_type": "markdown",
   "metadata": {},
   "source": [
    "## HyperParameters"
   ]
  },
  {
   "cell_type": "code",
   "execution_count": 27,
   "metadata": {},
   "outputs": [],
   "source": [
    "n_epochs = 100\n",
    "learning_rate = 0.01\n",
    "batch_size = 200\n",
    "n_neurons_per_layer = [30, 30]"
   ]
  },
  {
   "cell_type": "markdown",
   "metadata": {},
   "source": [
    "## Architecture"
   ]
  },
  {
   "cell_type": "code",
   "execution_count": 28,
   "metadata": {},
   "outputs": [
    {
     "name": "stdout",
     "output_type": "stream",
     "text": [
      "_________________________________________________________________\n",
      "Layer (type)                 Output Shape              Param #   \n",
      "=================================================================\n",
      "dense_26 (Dense)             (None, 30)                270       \n",
      "_________________________________________________________________\n",
      "activation_22 (Activation)   (None, 30)                0         \n",
      "_________________________________________________________________\n",
      "dropout_13 (Dropout)         (None, 30)                0         \n",
      "_________________________________________________________________\n",
      "dense_27 (Dense)             (None, 30)                930       \n",
      "_________________________________________________________________\n",
      "activation_23 (Activation)   (None, 30)                0         \n",
      "_________________________________________________________________\n",
      "dropout_14 (Dropout)         (None, 30)                0         \n",
      "_________________________________________________________________\n",
      "dense_28 (Dense)             (None, 10)                310       \n",
      "_________________________________________________________________\n",
      "activation_24 (Activation)   (None, 10)                0         \n",
      "=================================================================\n",
      "Total params: 1,510\n",
      "Trainable params: 1,510\n",
      "Non-trainable params: 0\n",
      "_________________________________________________________________\n"
     ]
    }
   ],
   "source": [
    "from keras.models import Sequential\n",
    "from keras.layers import Dense, Dropout, Activation\n",
    "from keras import optimizers\n",
    "\n",
    "mlp = Sequential()\n",
    "\n",
    "# Middle layers\n",
    "\n",
    "# First\n",
    "mlp.add(Dense(n_neurons_per_layer[0], input_dim=INPUTS))\n",
    "mlp.add(Activation('relu'))\n",
    "mlp.add(Dropout(0.2))\n",
    "\n",
    "# Second\n",
    "mlp.add(Dense(n_neurons_per_layer[1]))\n",
    "mlp.add(Activation('relu'))\n",
    "mlp.add(Dropout(0.2))\n",
    "\n",
    "# Final layer\n",
    "mlp.add(Dense(OUTPUTS))\n",
    "mlp.add(Activation('softmax'))\n",
    "\n",
    "opt = optimizers.SGD(lr=learning_rate, decay=1e-6, momentum=0.9, nesterov=True)\n",
    "mlp.compile(optimizer=opt, loss='categorical_crossentropy', metrics=['accuracy'])\n",
    "mlp.summary()"
   ]
  },
  {
   "cell_type": "markdown",
   "metadata": {},
   "source": [
    "## Training"
   ]
  },
  {
   "cell_type": "code",
   "execution_count": 29,
   "metadata": {},
   "outputs": [
    {
     "name": "stdout",
     "output_type": "stream",
     "text": [
      "Train on 16346 samples, validate on 2043 samples\n",
      "Epoch 1/100\n",
      " - 1s - loss: 2.2956 - acc: 0.1195 - val_loss: 2.2418 - val_acc: 0.1987\n",
      "Epoch 2/100\n",
      " - 0s - loss: 2.2285 - acc: 0.1670 - val_loss: 2.1556 - val_acc: 0.2203\n",
      "Epoch 3/100\n",
      " - 0s - loss: 2.1418 - acc: 0.1978 - val_loss: 2.0324 - val_acc: 0.2447\n",
      "Epoch 4/100\n",
      " - 0s - loss: 2.0402 - acc: 0.2259 - val_loss: 1.9314 - val_acc: 0.2477\n",
      "Epoch 5/100\n",
      " - 0s - loss: 1.9793 - acc: 0.2306 - val_loss: 1.8656 - val_acc: 0.2614\n",
      "Epoch 6/100\n",
      " - 0s - loss: 1.9346 - acc: 0.2372 - val_loss: 1.8297 - val_acc: 0.2814\n",
      "Epoch 7/100\n",
      " - 0s - loss: 1.9029 - acc: 0.2473 - val_loss: 1.8008 - val_acc: 0.2966\n",
      "Epoch 8/100\n",
      " - 0s - loss: 1.8776 - acc: 0.2580 - val_loss: 1.7740 - val_acc: 0.2893\n",
      "Epoch 9/100\n",
      " - 0s - loss: 1.8605 - acc: 0.2681 - val_loss: 1.7627 - val_acc: 0.3040\n",
      "Epoch 10/100\n",
      " - 0s - loss: 1.8502 - acc: 0.2703 - val_loss: 1.7532 - val_acc: 0.3103\n",
      "Epoch 11/100\n",
      " - 0s - loss: 1.8397 - acc: 0.2693 - val_loss: 1.7433 - val_acc: 0.3147\n",
      "Epoch 12/100\n",
      " - 0s - loss: 1.8279 - acc: 0.2798 - val_loss: 1.7401 - val_acc: 0.3152\n",
      "Epoch 13/100\n",
      " - 0s - loss: 1.8261 - acc: 0.2777 - val_loss: 1.7363 - val_acc: 0.3113\n",
      "Epoch 14/100\n",
      " - 0s - loss: 1.8180 - acc: 0.2832 - val_loss: 1.7261 - val_acc: 0.3113\n",
      "Epoch 15/100\n",
      " - 0s - loss: 1.8114 - acc: 0.2812 - val_loss: 1.7251 - val_acc: 0.3142\n",
      "Epoch 16/100\n",
      " - 0s - loss: 1.8082 - acc: 0.2866 - val_loss: 1.7203 - val_acc: 0.3182\n",
      "Epoch 17/100\n",
      " - 0s - loss: 1.8047 - acc: 0.2850 - val_loss: 1.7161 - val_acc: 0.3206\n",
      "Epoch 18/100\n",
      " - 0s - loss: 1.8020 - acc: 0.2853 - val_loss: 1.7174 - val_acc: 0.3162\n",
      "Epoch 19/100\n",
      " - 0s - loss: 1.7949 - acc: 0.2929 - val_loss: 1.7048 - val_acc: 0.3167\n",
      "Epoch 20/100\n",
      " - 0s - loss: 1.7909 - acc: 0.2940 - val_loss: 1.7128 - val_acc: 0.3245\n",
      "Epoch 21/100\n",
      " - 0s - loss: 1.7895 - acc: 0.2937 - val_loss: 1.7102 - val_acc: 0.3162\n",
      "Epoch 22/100\n",
      " - 0s - loss: 1.7838 - acc: 0.2967 - val_loss: 1.6986 - val_acc: 0.3270\n",
      "Epoch 23/100\n",
      " - 0s - loss: 1.7798 - acc: 0.2968 - val_loss: 1.7016 - val_acc: 0.3157\n",
      "Epoch 24/100\n",
      " - 0s - loss: 1.7798 - acc: 0.2997 - val_loss: 1.6995 - val_acc: 0.3157\n",
      "Epoch 25/100\n",
      " - 0s - loss: 1.7767 - acc: 0.2977 - val_loss: 1.6965 - val_acc: 0.3319\n",
      "Epoch 26/100\n",
      " - 0s - loss: 1.7734 - acc: 0.2950 - val_loss: 1.6919 - val_acc: 0.3270\n",
      "Epoch 27/100\n",
      " - 0s - loss: 1.7703 - acc: 0.3026 - val_loss: 1.6911 - val_acc: 0.3348\n",
      "Epoch 28/100\n",
      " - 0s - loss: 1.7676 - acc: 0.3069 - val_loss: 1.6856 - val_acc: 0.3304\n",
      "Epoch 29/100\n",
      " - 1s - loss: 1.7675 - acc: 0.3049 - val_loss: 1.6891 - val_acc: 0.3265\n",
      "Epoch 30/100\n",
      " - 0s - loss: 1.7600 - acc: 0.3042 - val_loss: 1.6827 - val_acc: 0.3245\n",
      "Epoch 31/100\n",
      " - 0s - loss: 1.7569 - acc: 0.3088 - val_loss: 1.6843 - val_acc: 0.3436\n",
      "Epoch 32/100\n",
      " - 0s - loss: 1.7599 - acc: 0.3069 - val_loss: 1.6783 - val_acc: 0.3333\n",
      "Epoch 33/100\n",
      " - 0s - loss: 1.7604 - acc: 0.3129 - val_loss: 1.6761 - val_acc: 0.3314\n",
      "Epoch 34/100\n",
      " - 0s - loss: 1.7570 - acc: 0.3094 - val_loss: 1.6785 - val_acc: 0.3431\n",
      "Epoch 35/100\n",
      " - 0s - loss: 1.7560 - acc: 0.3067 - val_loss: 1.6729 - val_acc: 0.3348\n",
      "Epoch 36/100\n",
      " - 0s - loss: 1.7521 - acc: 0.3098 - val_loss: 1.6690 - val_acc: 0.3319\n",
      "Epoch 37/100\n",
      " - 0s - loss: 1.7474 - acc: 0.3124 - val_loss: 1.6694 - val_acc: 0.3368\n",
      "Epoch 38/100\n",
      " - 0s - loss: 1.7471 - acc: 0.3118 - val_loss: 1.6685 - val_acc: 0.3377\n",
      "Epoch 39/100\n",
      " - 0s - loss: 1.7443 - acc: 0.3130 - val_loss: 1.6669 - val_acc: 0.3235\n",
      "Epoch 40/100\n",
      " - 0s - loss: 1.7455 - acc: 0.3169 - val_loss: 1.6628 - val_acc: 0.3240\n",
      "Epoch 41/100\n",
      " - 0s - loss: 1.7416 - acc: 0.3183 - val_loss: 1.6666 - val_acc: 0.3441\n",
      "Epoch 42/100\n",
      " - 0s - loss: 1.7388 - acc: 0.3178 - val_loss: 1.6629 - val_acc: 0.3446\n",
      "Epoch 43/100\n",
      " - 0s - loss: 1.7386 - acc: 0.3196 - val_loss: 1.6646 - val_acc: 0.3436\n",
      "Epoch 44/100\n",
      " - 0s - loss: 1.7356 - acc: 0.3216 - val_loss: 1.6568 - val_acc: 0.3372\n",
      "Epoch 45/100\n",
      " - 0s - loss: 1.7369 - acc: 0.3198 - val_loss: 1.6595 - val_acc: 0.3417\n",
      "Epoch 46/100\n",
      " - 0s - loss: 1.7323 - acc: 0.3172 - val_loss: 1.6538 - val_acc: 0.3480\n",
      "Epoch 47/100\n",
      " - 0s - loss: 1.7318 - acc: 0.3196 - val_loss: 1.6621 - val_acc: 0.3505\n",
      "Epoch 48/100\n",
      " - 0s - loss: 1.7322 - acc: 0.3224 - val_loss: 1.6566 - val_acc: 0.3505\n",
      "Epoch 49/100\n",
      " - 0s - loss: 1.7314 - acc: 0.3215 - val_loss: 1.6546 - val_acc: 0.3510\n",
      "Epoch 50/100\n",
      " - 0s - loss: 1.7215 - acc: 0.3269 - val_loss: 1.6505 - val_acc: 0.3554\n",
      "Epoch 51/100\n",
      " - 0s - loss: 1.7256 - acc: 0.3204 - val_loss: 1.6533 - val_acc: 0.3485\n",
      "Epoch 52/100\n",
      " - 0s - loss: 1.7274 - acc: 0.3206 - val_loss: 1.6493 - val_acc: 0.3407\n",
      "Epoch 53/100\n",
      " - 0s - loss: 1.7298 - acc: 0.3210 - val_loss: 1.6519 - val_acc: 0.3436\n",
      "Epoch 54/100\n",
      " - 0s - loss: 1.7261 - acc: 0.3229 - val_loss: 1.6502 - val_acc: 0.3451\n",
      "Epoch 55/100\n",
      " - 0s - loss: 1.7244 - acc: 0.3259 - val_loss: 1.6483 - val_acc: 0.3505\n",
      "Epoch 56/100\n",
      " - 0s - loss: 1.7275 - acc: 0.3225 - val_loss: 1.6454 - val_acc: 0.3412\n",
      "Epoch 57/100\n",
      " - 0s - loss: 1.7211 - acc: 0.3266 - val_loss: 1.6497 - val_acc: 0.3549\n",
      "Epoch 58/100\n",
      " - 0s - loss: 1.7180 - acc: 0.3261 - val_loss: 1.6468 - val_acc: 0.3387\n",
      "Epoch 59/100\n",
      " - 0s - loss: 1.7167 - acc: 0.3282 - val_loss: 1.6407 - val_acc: 0.3451\n",
      "Epoch 60/100\n",
      " - 0s - loss: 1.7196 - acc: 0.3290 - val_loss: 1.6422 - val_acc: 0.3465\n",
      "Epoch 61/100\n",
      " - 0s - loss: 1.7187 - acc: 0.3271 - val_loss: 1.6397 - val_acc: 0.3446\n",
      "Epoch 62/100\n",
      " - 0s - loss: 1.7186 - acc: 0.3282 - val_loss: 1.6418 - val_acc: 0.3465\n",
      "Epoch 63/100\n",
      " - 0s - loss: 1.7124 - acc: 0.3280 - val_loss: 1.6416 - val_acc: 0.3529\n",
      "Epoch 64/100\n",
      " - 0s - loss: 1.7116 - acc: 0.3289 - val_loss: 1.6377 - val_acc: 0.3534\n",
      "Epoch 65/100\n",
      " - 0s - loss: 1.7137 - acc: 0.3334 - val_loss: 1.6375 - val_acc: 0.3534\n",
      "Epoch 66/100\n",
      " - 0s - loss: 1.7145 - acc: 0.3267 - val_loss: 1.6384 - val_acc: 0.3558\n",
      "Epoch 67/100\n",
      " - 0s - loss: 1.7103 - acc: 0.3282 - val_loss: 1.6380 - val_acc: 0.3475\n",
      "Epoch 68/100\n",
      " - 0s - loss: 1.7139 - acc: 0.3319 - val_loss: 1.6393 - val_acc: 0.3461\n",
      "Epoch 69/100\n",
      " - 0s - loss: 1.7090 - acc: 0.3344 - val_loss: 1.6402 - val_acc: 0.3568\n",
      "Epoch 70/100\n",
      " - 0s - loss: 1.7077 - acc: 0.3330 - val_loss: 1.6381 - val_acc: 0.3514\n",
      "Epoch 71/100\n",
      " - 0s - loss: 1.7065 - acc: 0.3333 - val_loss: 1.6321 - val_acc: 0.3475\n",
      "Epoch 72/100\n",
      " - 0s - loss: 1.7061 - acc: 0.3320 - val_loss: 1.6327 - val_acc: 0.3500\n",
      "Epoch 73/100\n",
      " - 0s - loss: 1.7009 - acc: 0.3362 - val_loss: 1.6310 - val_acc: 0.3519\n",
      "Epoch 74/100\n",
      " - 0s - loss: 1.7011 - acc: 0.3321 - val_loss: 1.6304 - val_acc: 0.3563\n",
      "Epoch 75/100\n",
      " - 0s - loss: 1.7055 - acc: 0.3332 - val_loss: 1.6325 - val_acc: 0.3421\n",
      "Epoch 76/100\n",
      " - 0s - loss: 1.7037 - acc: 0.3359 - val_loss: 1.6329 - val_acc: 0.3514\n",
      "Epoch 77/100\n",
      " - 0s - loss: 1.6954 - acc: 0.3428 - val_loss: 1.6244 - val_acc: 0.3524\n",
      "Epoch 78/100\n",
      " - 0s - loss: 1.7052 - acc: 0.3326 - val_loss: 1.6407 - val_acc: 0.3563\n",
      "Epoch 79/100\n",
      " - 0s - loss: 1.7043 - acc: 0.3371 - val_loss: 1.6278 - val_acc: 0.3505\n",
      "Epoch 80/100\n",
      " - 0s - loss: 1.6974 - acc: 0.3343 - val_loss: 1.6264 - val_acc: 0.3588\n",
      "Epoch 81/100\n",
      " - 0s - loss: 1.7005 - acc: 0.3358 - val_loss: 1.6274 - val_acc: 0.3490\n",
      "Epoch 82/100\n",
      " - 0s - loss: 1.7031 - acc: 0.3333 - val_loss: 1.6261 - val_acc: 0.3539\n",
      "Epoch 83/100\n",
      " - 0s - loss: 1.7040 - acc: 0.3347 - val_loss: 1.6275 - val_acc: 0.3573\n",
      "Epoch 84/100\n",
      " - 0s - loss: 1.6946 - acc: 0.3420 - val_loss: 1.6273 - val_acc: 0.3539\n",
      "Epoch 85/100\n",
      " - 0s - loss: 1.6962 - acc: 0.3364 - val_loss: 1.6221 - val_acc: 0.3534\n",
      "Epoch 86/100\n",
      " - 0s - loss: 1.6985 - acc: 0.3373 - val_loss: 1.6254 - val_acc: 0.3642\n",
      "Epoch 87/100\n",
      " - 0s - loss: 1.6958 - acc: 0.3370 - val_loss: 1.6239 - val_acc: 0.3598\n",
      "Epoch 88/100\n",
      " - 0s - loss: 1.6968 - acc: 0.3411 - val_loss: 1.6211 - val_acc: 0.3573\n",
      "Epoch 89/100\n",
      " - 0s - loss: 1.6939 - acc: 0.3391 - val_loss: 1.6261 - val_acc: 0.3554\n",
      "Epoch 90/100\n",
      " - 0s - loss: 1.6992 - acc: 0.3345 - val_loss: 1.6241 - val_acc: 0.3558\n",
      "Epoch 91/100\n",
      " - 0s - loss: 1.6922 - acc: 0.3394 - val_loss: 1.6256 - val_acc: 0.3539\n",
      "Epoch 92/100\n",
      " - 0s - loss: 1.6907 - acc: 0.3417 - val_loss: 1.6159 - val_acc: 0.3593\n",
      "Epoch 93/100\n",
      " - 0s - loss: 1.6895 - acc: 0.3368 - val_loss: 1.6189 - val_acc: 0.3588\n",
      "Epoch 94/100\n",
      " - 0s - loss: 1.6962 - acc: 0.3359 - val_loss: 1.6206 - val_acc: 0.3588\n",
      "Epoch 95/100\n",
      " - 0s - loss: 1.6930 - acc: 0.3367 - val_loss: 1.6255 - val_acc: 0.3573\n",
      "Epoch 96/100\n",
      " - 0s - loss: 1.6969 - acc: 0.3425 - val_loss: 1.6163 - val_acc: 0.3514\n"
     ]
    },
    {
     "name": "stdout",
     "output_type": "stream",
     "text": [
      "Epoch 97/100\n",
      " - 0s - loss: 1.6867 - acc: 0.3379 - val_loss: 1.6237 - val_acc: 0.3593\n",
      "Epoch 98/100\n",
      " - 0s - loss: 1.6935 - acc: 0.3416 - val_loss: 1.6210 - val_acc: 0.3593\n",
      "Epoch 99/100\n",
      " - 0s - loss: 1.6964 - acc: 0.3382 - val_loss: 1.6237 - val_acc: 0.3554\n",
      "Epoch 100/100\n",
      " - 0s - loss: 1.6888 - acc: 0.3417 - val_loss: 1.6130 - val_acc: 0.3607\n"
     ]
    }
   ],
   "source": [
    "data = mlp.fit(x_train, t_train, batch_size=batch_size, epochs=n_epochs, verbose=2, validation_data=(x_dev, t_dev), callbacks=[tensorboard])"
   ]
  },
  {
   "cell_type": "markdown",
   "metadata": {},
   "source": [
    "## Performance Measures"
   ]
  },
  {
   "cell_type": "code",
   "execution_count": 30,
   "metadata": {},
   "outputs": [
    {
     "name": "stdout",
     "output_type": "stream",
     "text": [
      "MLP took 0.06447935104370117 seconds\n",
      "Test loss: 1.6287181398406654 - Accuracy: 0.3723091974766987\n"
     ]
    }
   ],
   "source": [
    "start = time()\n",
    "loss, acc = mlp.evaluate(x_test, t_test, verbose=0)\n",
    "end = time()\n",
    "print('MLP took ' + str(end - start) + ' seconds')\n",
    "print('Test loss: ' + str(loss) + ' - Accuracy: ' + str(acc))"
   ]
  },
  {
   "cell_type": "code",
   "execution_count": null,
   "metadata": {},
   "outputs": [],
   "source": []
  }
 ],
 "metadata": {
  "kernelspec": {
   "display_name": "Python 3",
   "language": "python",
   "name": "python3"
  },
  "language_info": {
   "codemirror_mode": {
    "name": "ipython",
    "version": 3
   },
   "file_extension": ".py",
   "mimetype": "text/x-python",
   "name": "python",
   "nbconvert_exporter": "python",
   "pygments_lexer": "ipython3",
   "version": "3.6.8"
  }
 },
 "nbformat": 4,
 "nbformat_minor": 2
}
